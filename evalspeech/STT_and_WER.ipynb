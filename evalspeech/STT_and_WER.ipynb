{
 "cells": [
  {
   "cell_type": "code",
   "execution_count": 2,
   "metadata": {},
   "outputs": [],
   "source": [
    "#!pip install SpeechRecognition\n",
    "#!pip install pipwin\n",
    "#!pipwin install pocketsphinx"
   ]
  },
  {
   "cell_type": "code",
   "execution_count": 3,
   "metadata": {},
   "outputs": [
    {
     "data": {
      "text/plain": [
       "'3.8.1'"
      ]
     },
     "execution_count": 3,
     "metadata": {},
     "output_type": "execute_result"
    }
   ],
   "source": [
    "import speech_recognition as sr\n",
    "sr.__version__"
   ]
  },
  {
   "cell_type": "code",
   "execution_count": 4,
   "metadata": {},
   "outputs": [],
   "source": [
    "\n",
    "r = sr.Recognizer()"
   ]
  },
  {
   "cell_type": "code",
   "execution_count": 5,
   "metadata": {},
   "outputs": [],
   "source": [
    "PATH_origin='./Desktop/ZeroSpeech/english/test/77_160.wav'\n",
    "PATH_kang='./ZeroSpeech/english/train/voice/kang1_0160.wav'\n"
   ]
  },
  {
   "cell_type": "code",
   "execution_count": 6,
   "metadata": {},
   "outputs": [
    {
     "name": "stdout",
     "output_type": "stream",
     "text": [
      "temperature is about whether those colored dots in the center of the Saddles are conveyed so kind of information about their ability to strike or their Strike Force and something about the timeshare in the molting cycle\n",
      "-----------------\n",
      "that's why I'm very curious over there. Color dots in the center of the Shadows are conveying some kind of information about their ability to strike or their Strike Force and something about the time. In the molting cycle\n",
      "-----------------\n"
     ]
    }
   ],
   "source": [
    "with sr.AudioFile(PATH_origin) as source:\n",
    "    audio = r.record(source)\n",
    "    print(r.recognize_google(audio))\n",
    "    print('-----------------')\n",
    "\n",
    "answer=r.recognize_google(audio)\n",
    "answer=answer.lower()\n",
    "\n",
    "with sr.AudioFile(PATH_kang) as source:\n",
    "    audio = r.record(source)\n",
    "    print(r.recognize_google(audio))\n",
    "    print('-----------------')\n",
    "\n",
    "mine=r.recognize_google(audio)\n",
    "mine=mine.lower()\n"
   ]
  },
  {
   "cell_type": "code",
   "execution_count": 7,
   "metadata": {},
   "outputs": [],
   "source": [
    "from nltk.tokenize import word_tokenize"
   ]
  },
  {
   "cell_type": "code",
   "execution_count": 8,
   "metadata": {},
   "outputs": [],
   "source": [
    "answer_token=word_tokenize(answer)\n",
    "mine_token=word_tokenize(mine)\n"
   ]
  },
  {
   "cell_type": "code",
   "execution_count": 9,
   "metadata": {},
   "outputs": [],
   "source": [
    "import numpy\n",
    "\n",
    "def get_word_error_rate(r, h):\n",
    "\n",
    "    \"\"\"\n",
    "    Given two list of strings how many word error rate(insert, delete or substitution).\n",
    "    \"\"\"\n",
    "    d = numpy.zeros((len(r) + 1) * (len(h) + 1), dtype=numpy.uint16)\n",
    "    d = d.reshape((len(r) + 1, len(h) + 1))\n",
    "    for i in range(len(r) + 1):\n",
    "        for j in range(len(h) + 1):\n",
    "            if i == 0:\n",
    "                d[0][j] = j\n",
    "            elif j == 0:\n",
    "                d[i][0] = i\n",
    "\n",
    "    for i in range(1, len(r) + 1):\n",
    "        for j in range(1, len(h) + 1):\n",
    "            if r[i - 1] == h[j - 1]:\n",
    "                d[i][j] = d[i - 1][j - 1]\n",
    "            else:\n",
    "                substitution = d[i - 1][j - 1] + 1\n",
    "                insertion = d[i][j - 1] + 1\n",
    "                deletion = d[i - 1][j] + 1\n",
    "                d[i][j] = min(substitution, insertion, deletion)\n",
    "    result = float(d[len(r)][len(h)]) / len(r) * 100\n",
    "    return round(100-result)"
   ]
  },
  {
   "cell_type": "code",
   "execution_count": 10,
   "metadata": {},
   "outputs": [
    {
     "data": {
      "text/plain": [
       "63"
      ]
     },
     "execution_count": 10,
     "metadata": {},
     "output_type": "execute_result"
    }
   ],
   "source": [
    "get_word_error_rate(mine_token,answer_token)"
   ]
  },
  {
   "cell_type": "code",
   "execution_count": 11,
   "metadata": {},
   "outputs": [],
   "source": [
    "PATH_origin='./ZeroSpeech/english/test/77_0.wav'\n",
    "PATH_kang='./ZeroSpeech/english/train/voice/kang1_0000.wav'"
   ]
  },
  {
   "cell_type": "code",
   "execution_count": 12,
   "metadata": {},
   "outputs": [
    {
     "name": "stdout",
     "output_type": "stream",
     "text": [
      "if you'd like to learn how to play The Lobster Wii\n",
      "-----------------\n",
      "if you like to learn how to play the blah story\n",
      "-----------------\n"
     ]
    }
   ],
   "source": [
    "with sr.AudioFile(PATH_origin) as source:\n",
    "    audio = r.record(source)\n",
    "    print(r.recognize_google(audio))\n",
    "    print('-----------------')\n",
    "\n",
    "answer=r.recognize_google(audio)\n",
    "answer=answer.lower()\n",
    "\n",
    "with sr.AudioFile(PATH_kang) as source:\n",
    "    audio = r.record(source)\n",
    "    print(r.recognize_google(audio))\n",
    "    print('-----------------')\n",
    "\n",
    "mine=r.recognize_google(audio)\n",
    "mine=mine.lower()"
   ]
  },
  {
   "cell_type": "code",
   "execution_count": 13,
   "metadata": {},
   "outputs": [],
   "source": [
    "answer_token=word_tokenize(answer)\n",
    "mine_token=word_tokenize(mine)"
   ]
  },
  {
   "cell_type": "code",
   "execution_count": 14,
   "metadata": {},
   "outputs": [
    {
     "data": {
      "text/plain": [
       "73"
      ]
     },
     "execution_count": 14,
     "metadata": {},
     "output_type": "execute_result"
    }
   ],
   "source": [
    "get_word_error_rate(mine_token,answer_token)"
   ]
  },
  {
   "cell_type": "code",
   "execution_count": null,
   "metadata": {},
   "outputs": [],
   "source": [
    "# 아래는 완전 정답일시"
   ]
  },
  {
   "cell_type": "code",
   "execution_count": 15,
   "metadata": {},
   "outputs": [],
   "source": [
    "PATH_origin='./ZeroSpeech/english/test/77_0.wav'\n",
    "PATH_kang='./ZeroSpeech/english/test/77_0.wav'"
   ]
  },
  {
   "cell_type": "code",
   "execution_count": 16,
   "metadata": {},
   "outputs": [
    {
     "name": "stdout",
     "output_type": "stream",
     "text": [
      "if you'd like to learn how to play The Lobster Wii\n",
      "-----------------\n",
      "if you'd like to learn how to play The Lobster Wii\n",
      "-----------------\n"
     ]
    }
   ],
   "source": [
    "with sr.AudioFile(PATH_origin) as source:\n",
    "    audio = r.record(source)\n",
    "    print(r.recognize_google(audio))\n",
    "    print('-----------------')\n",
    "\n",
    "answer=r.recognize_google(audio)\n",
    "answer=answer.lower()\n",
    "\n",
    "with sr.AudioFile(PATH_kang) as source:\n",
    "    audio = r.record(source)\n",
    "    print(r.recognize_google(audio))\n",
    "    print('-----------------')\n",
    "\n",
    "mine=r.recognize_google(audio)\n",
    "mine=mine.lower()"
   ]
  },
  {
   "cell_type": "code",
   "execution_count": 17,
   "metadata": {},
   "outputs": [],
   "source": [
    "answer_token=word_tokenize(answer)\n",
    "mine_token=word_tokenize(mine)"
   ]
  },
  {
   "cell_type": "code",
   "execution_count": 18,
   "metadata": {},
   "outputs": [
    {
     "data": {
      "text/plain": [
       "100"
      ]
     },
     "execution_count": 18,
     "metadata": {},
     "output_type": "execute_result"
    }
   ],
   "source": [
    "get_word_error_rate(mine_token,answer_token)"
   ]
  },
  {
   "cell_type": "code",
   "execution_count": null,
   "metadata": {},
   "outputs": [],
   "source": []
  }
 ],
 "metadata": {
  "kernelspec": {
   "display_name": "Python 3",
   "language": "python",
   "name": "python3"
  },
  "language_info": {
   "codemirror_mode": {
    "name": "ipython",
    "version": 3
   },
   "file_extension": ".py",
   "mimetype": "text/x-python",
   "name": "python",
   "nbconvert_exporter": "python",
   "pygments_lexer": "ipython3",
   "version": "3.8.3"
  },
  "toc": {
   "base_numbering": 1,
   "nav_menu": {},
   "number_sections": true,
   "sideBar": true,
   "skip_h1_title": false,
   "title_cell": "Table of Contents",
   "title_sidebar": "Contents",
   "toc_cell": false,
   "toc_position": {},
   "toc_section_display": true,
   "toc_window_display": false
  },
  "varInspector": {
   "cols": {
    "lenName": 16,
    "lenType": 16,
    "lenVar": 40
   },
   "kernels_config": {
    "python": {
     "delete_cmd_postfix": "",
     "delete_cmd_prefix": "del ",
     "library": "var_list.py",
     "varRefreshCmd": "print(var_dic_list())"
    },
    "r": {
     "delete_cmd_postfix": ") ",
     "delete_cmd_prefix": "rm(",
     "library": "var_list.r",
     "varRefreshCmd": "cat(var_dic_list()) "
    }
   },
   "types_to_exclude": [
    "module",
    "function",
    "builtin_function_or_method",
    "instance",
    "_Feature"
   ],
   "window_display": false
  }
 },
 "nbformat": 4,
 "nbformat_minor": 4
}
