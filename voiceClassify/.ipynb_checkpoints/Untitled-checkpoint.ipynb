{
 "cells": [
  {
   "cell_type": "code",
   "execution_count": 5,
   "metadata": {},
   "outputs": [],
   "source": [
    "import os\n",
    "from voiceClassify import VoiceClassify\n",
    "#import voiceClassify\n",
    "\n",
    "#input : 'kang1', './test/kang1_178.wav' 형식\n",
    "\n",
    "def user_in_speaker(user_id,user_audio_file):\n",
    "    vc = VoiceClassify(user_audio_file)\n",
    "    predicted = vc.predict(str(user_audio_file))\n",
    "    result=predicted[0][0][0]\n",
    "    speakers=[\"S015\", \"S020\", \"S021\", \"S023\",  \"S027\",  \"S031\",  \"S032\",  \"S033\",  \"S034\",  \"S035\",  \"S036\",  \"S037\",  \"S038\",  \"S039\",\n",
    "    \"S040\",  \"S041\",  \"S042\",  \"S043\",  \"S044\",   \"S045\", \"S046\",\"S047\",\"S048\", \"S049\",\"S050\", \"S051\", \"S052\", \"S053\", \"S054\",\n",
    "    \"S055\", \"S056\", \"S058\",  \"S059\", \"S060\", \"S061\", \"S063\", \"S064\", \"S065\", \"S066\", \"S067\", \"S069\",  \"S070\", \"S071\",  \"S072\",\n",
    "    \"S073\",    \"S074\",    \"S075\",    \"S076\",    \"S077\",    \"S078\",    \"S079\",    \"S080\",    \"S082\",    \"S083\",    \"S084\",    \"S085\",\n",
    "    \"S086\",    \"S087\",    \"S088\",    \"S090\",    \"S091\",    \"S092\",    \"S093\",    \"S094\",    \"S095\",    \"S096\",    \"S097\",    \"S098\",\n",
    "    \"S099\",    \"S100\",    \"S101\",    \"S102\",    \"S103\",    \"S104\",    \"S105\",    \"S106\",    \"S107\",    \"S109\",    \"S110\",    \"S111\",\n",
    "    \"S112\",    \"S113\",    \"S114\",    \"S115\",    \"S116\",    \"S117\",    \"S118\",    \"S119\",    \"S120\",    \"S121\",    \"S122\",    \"S123\",\n",
    "    \"S125\",    \"S126\",    \"S127\",    \"S128\",    \"S129\",    \"S131\",    \"S132\",    \"S133\",    \"V001\",    \"V002\"]\n",
    "    for n, i in enumerate(speakers):        \n",
    "        if i == result:\n",
    "            index=speakers.index(result)\n",
    "            speakers[index] = str(user_id)\n",
    "    return speakers\n",
    "\n",
    "\n",
    "\n",
    "\n"
   ]
  },
  {
   "cell_type": "code",
   "execution_count": 6,
   "metadata": {},
   "outputs": [
    {
     "ename": "ModuleNotFoundError",
     "evalue": "No module named 'xgboost'",
     "output_type": "error",
     "traceback": [
      "\u001b[1;31m---------------------------------------------------------------------------\u001b[0m",
      "\u001b[1;31mModuleNotFoundError\u001b[0m                       Traceback (most recent call last)",
      "\u001b[1;32m<ipython-input-6-c7090b892aad>\u001b[0m in \u001b[0;36m<module>\u001b[1;34m\u001b[0m\n\u001b[1;32m----> 1\u001b[1;33m \u001b[0muser_in_speaker\u001b[0m\u001b[1;33m(\u001b[0m\u001b[1;34m'kang1'\u001b[0m\u001b[1;33m,\u001b[0m\u001b[1;34m'C:/Users/HAPPY/Desktop/ZeroSpeech/english/train/voice/kang1_0132.wav'\u001b[0m\u001b[1;33m)\u001b[0m\u001b[1;33m\u001b[0m\u001b[1;33m\u001b[0m\u001b[0m\n\u001b[0m",
      "\u001b[1;32m<ipython-input-5-c75490b00ad5>\u001b[0m in \u001b[0;36muser_in_speaker\u001b[1;34m(user_id, user_audio_file)\u001b[0m\n\u001b[0;32m      9\u001b[0m \u001b[1;32mdef\u001b[0m \u001b[0muser_in_speaker\u001b[0m\u001b[1;33m(\u001b[0m\u001b[0muser_id\u001b[0m\u001b[1;33m,\u001b[0m\u001b[0muser_audio_file\u001b[0m\u001b[1;33m)\u001b[0m\u001b[1;33m:\u001b[0m\u001b[1;33m\u001b[0m\u001b[1;33m\u001b[0m\u001b[0m\n\u001b[0;32m     10\u001b[0m     \u001b[0mmodel\u001b[0m\u001b[1;33m=\u001b[0m\u001b[1;34m'speakers_all_data_noChroCon_data_edit'\u001b[0m\u001b[1;33m\u001b[0m\u001b[1;33m\u001b[0m\u001b[0m\n\u001b[1;32m---> 11\u001b[1;33m     \u001b[0mvc\u001b[0m \u001b[1;33m=\u001b[0m \u001b[0mVoiceClassify\u001b[0m\u001b[1;33m(\u001b[0m\u001b[0muser_audio_file\u001b[0m\u001b[1;33m)\u001b[0m\u001b[1;33m\u001b[0m\u001b[1;33m\u001b[0m\u001b[0m\n\u001b[0m\u001b[0;32m     12\u001b[0m     \u001b[0mpredicted\u001b[0m \u001b[1;33m=\u001b[0m \u001b[0mvc\u001b[0m\u001b[1;33m.\u001b[0m\u001b[0mpredict\u001b[0m\u001b[1;33m(\u001b[0m\u001b[0mstr\u001b[0m\u001b[1;33m(\u001b[0m\u001b[0muser_audio_file\u001b[0m\u001b[1;33m)\u001b[0m\u001b[1;33m)\u001b[0m\u001b[1;33m\u001b[0m\u001b[1;33m\u001b[0m\u001b[0m\n\u001b[0;32m     13\u001b[0m     \u001b[0mresult\u001b[0m\u001b[1;33m=\u001b[0m\u001b[0mpredicted\u001b[0m\u001b[1;33m[\u001b[0m\u001b[1;36m0\u001b[0m\u001b[1;33m]\u001b[0m\u001b[1;33m[\u001b[0m\u001b[1;36m0\u001b[0m\u001b[1;33m]\u001b[0m\u001b[1;33m[\u001b[0m\u001b[1;36m0\u001b[0m\u001b[1;33m]\u001b[0m\u001b[1;33m\u001b[0m\u001b[1;33m\u001b[0m\u001b[0m\n",
      "\u001b[1;32m~\\PycharmProjects\\TedBear-Web\\voiceClassify\\voiceClassify.py\u001b[0m in \u001b[0;36m__init__\u001b[1;34m(self, user_audio_file)\u001b[0m\n\u001b[0;32m     16\u001b[0m \u001b[1;33m\u001b[0m\u001b[0m\n\u001b[0;32m     17\u001b[0m         \u001b[1;32mwith\u001b[0m \u001b[0mopen\u001b[0m\u001b[1;33m(\u001b[0m\u001b[1;34m\"./model/clf-speakers_all_data_noChroCon_data_edit.pkl\"\u001b[0m\u001b[1;33m,\u001b[0m\u001b[1;34m\"rb\"\u001b[0m\u001b[1;33m)\u001b[0m \u001b[1;32mas\u001b[0m \u001b[0mf\u001b[0m\u001b[1;33m:\u001b[0m\u001b[1;33m\u001b[0m\u001b[1;33m\u001b[0m\u001b[0m\n\u001b[1;32m---> 18\u001b[1;33m             \u001b[0mself\u001b[0m\u001b[1;33m.\u001b[0m\u001b[0mclf\u001b[0m\u001b[1;33m=\u001b[0m\u001b[0mload\u001b[0m\u001b[1;33m(\u001b[0m\u001b[0mf\u001b[0m\u001b[1;33m)\u001b[0m\u001b[1;33m\u001b[0m\u001b[1;33m\u001b[0m\u001b[0m\n\u001b[0m\u001b[0;32m     19\u001b[0m         \u001b[0mself\u001b[0m\u001b[1;33m.\u001b[0m\u001b[0muser_audio_file\u001b[0m\u001b[1;33m=\u001b[0m\u001b[0muser_audio_file\u001b[0m\u001b[1;33m\u001b[0m\u001b[1;33m\u001b[0m\u001b[0m\n\u001b[0;32m     20\u001b[0m \u001b[1;33m\u001b[0m\u001b[0m\n",
      "\u001b[1;31mModuleNotFoundError\u001b[0m: No module named 'xgboost'"
     ]
    }
   ],
   "source": [
    "user_in_speaker('kang1','C:/Users/HAPPY/Desktop/ZeroSpeech/english/train/voice/kang1_0132.wav')"
   ]
  },
  {
   "cell_type": "code",
   "execution_count": null,
   "metadata": {},
   "outputs": [],
   "source": [
    "dir(voiceClassify)"
   ]
  },
  {
   "cell_type": "code",
   "execution_count": null,
   "metadata": {},
   "outputs": [],
   "source": []
  },
  {
   "cell_type": "code",
   "execution_count": null,
   "metadata": {},
   "outputs": [],
   "source": [
    "os.getcwd()"
   ]
  },
  {
   "cell_type": "code",
   "execution_count": null,
   "metadata": {},
   "outputs": [],
   "source": []
  }
 ],
 "metadata": {
  "kernelspec": {
   "display_name": "Python 3",
   "language": "python",
   "name": "python3"
  },
  "language_info": {
   "codemirror_mode": {
    "name": "ipython",
    "version": 3
   },
   "file_extension": ".py",
   "mimetype": "text/x-python",
   "name": "python",
   "nbconvert_exporter": "python",
   "pygments_lexer": "ipython3",
   "version": "3.8.3"
  },
  "toc": {
   "base_numbering": 1,
   "nav_menu": {},
   "number_sections": true,
   "sideBar": true,
   "skip_h1_title": false,
   "title_cell": "Table of Contents",
   "title_sidebar": "Contents",
   "toc_cell": false,
   "toc_position": {},
   "toc_section_display": true,
   "toc_window_display": false
  },
  "varInspector": {
   "cols": {
    "lenName": 16,
    "lenType": 16,
    "lenVar": 40
   },
   "kernels_config": {
    "python": {
     "delete_cmd_postfix": "",
     "delete_cmd_prefix": "del ",
     "library": "var_list.py",
     "varRefreshCmd": "print(var_dic_list())"
    },
    "r": {
     "delete_cmd_postfix": ") ",
     "delete_cmd_prefix": "rm(",
     "library": "var_list.r",
     "varRefreshCmd": "cat(var_dic_list()) "
    }
   },
   "types_to_exclude": [
    "module",
    "function",
    "builtin_function_or_method",
    "instance",
    "_Feature"
   ],
   "window_display": false
  }
 },
 "nbformat": 4,
 "nbformat_minor": 4
}
