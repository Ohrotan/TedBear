{
 "cells": [
  {
   "cell_type": "code",
   "execution_count": 11,
   "metadata": {
    "scrolled": true
   },
   "outputs": [
    {
     "ename": "ModuleNotFoundError",
     "evalue": "No module named 'voiceClassify'",
     "output_type": "error",
     "traceback": [
      "\u001b[1;31m---------------------------------------------------------------------------\u001b[0m",
      "\u001b[1;31mModuleNotFoundError\u001b[0m                       Traceback (most recent call last)",
      "\u001b[1;32m<ipython-input-11-026d3daac9fd>\u001b[0m in \u001b[0;36m<module>\u001b[1;34m\u001b[0m\n\u001b[0;32m      1\u001b[0m \u001b[1;31m#인풋: 유저_audio_file output:speakerslist\u001b[0m\u001b[1;33m\u001b[0m\u001b[1;33m\u001b[0m\u001b[1;33m\u001b[0m\u001b[0m\n\u001b[1;32m----> 2\u001b[1;33m \u001b[1;32mfrom\u001b[0m \u001b[0mvoiceClassify\u001b[0m \u001b[1;32mimport\u001b[0m \u001b[0mVoiceClassify\u001b[0m\u001b[1;33m\u001b[0m\u001b[1;33m\u001b[0m\u001b[0m\n\u001b[0m",
      "\u001b[1;31mModuleNotFoundError\u001b[0m: No module named 'voiceClassify'"
     ]
    }
   ],
   "source": [
    "#인풋: 유저_audio_file output:speakerslist\n",
    "from voiceClassify import VoiceClassify\n"
   ]
  },
  {
   "cell_type": "code",
   "execution_count": 8,
   "metadata": {},
   "outputs": [],
   "source": [
    "from voiceClassify import VoiceClassify\n",
    "\n",
    "def speaker_changer(user_audio_path):\n",
    "    vc = VoiceClassify(model)\n",
    "    predicted = vc.predict()\n",
    "    result=predicted[0][0][0]\n",
    "    speakers=[\"S015\", \"S020\", \"S021\", \"S023\",  \"S027\",  \"S031\",  \"S032\",  \"S033\",  \"S034\",  \"S035\",  \"S036\",  \"S037\",  \"S038\",  \"S039\",\n",
    "    \"S040\",  \"S041\",  \"S042\",  \"S043\",  \"S044\",   \"S045\", \"S046\",\"S047\",\"S048\", \"S049\",\"S050\", \"S051\", \"S052\", \"S053\", \"S054\",\n",
    "    \"S055\", \"S056\", \"S058\",  \"S059\", \"S060\", \"S061\", \"S063\", \"S064\", \"S065\", \"S066\", \"S067\", \"S069\",  \"S070\", \"S071\",  \"S072\",\n",
    "    \"S073\",    \"S074\",    \"S075\",    \"S076\",    \"S077\",    \"S078\",    \"S079\",    \"S080\",    \"S082\",    \"S083\",    \"S084\",    \"S085\",\n",
    "    \"S086\",    \"S087\",    \"S088\",    \"S090\",    \"S091\",    \"S092\",    \"S093\",    \"S094\",    \"S095\",    \"S096\",    \"S097\",    \"S098\",\n",
    "    \"S099\",    \"S100\",    \"S101\",    \"S102\",    \"S103\",    \"S104\",    \"S105\",    \"S106\",    \"S107\",    \"S109\",    \"S110\",    \"S111\",\n",
    "    \"S112\",    \"S113\",    \"S114\",    \"S115\",    \"S116\",    \"S117\",    \"S118\",    \"S119\",    \"S120\",    \"S121\",    \"S122\",    \"S123\",\n",
    "    \"S125\",    \"S126\",    \"S127\",    \"S128\",    \"S129\",    \"S131\",    \"S132\",    \"S133\",    \"V001\",    \"V002\"]\n",
    "    for n, i in enumerate(speakers):        \n",
    "        if i == result:\n",
    "            index=speakers.index(result)\n",
    "            speakers[index] = str(user_id)\n",
    "    return speakers"
   ]
  },
  {
   "cell_type": "code",
   "execution_count": null,
   "metadata": {},
   "outputs": [],
   "source": []
  }
 ],
 "metadata": {
  "kernelspec": {
   "display_name": "Python 3",
   "language": "python",
   "name": "python3"
  },
  "language_info": {
   "codemirror_mode": {
    "name": "ipython",
    "version": 3
   },
   "file_extension": ".py",
   "mimetype": "text/x-python",
   "name": "python",
   "nbconvert_exporter": "python",
   "pygments_lexer": "ipython3",
   "version": "3.8.3"
  },
  "toc": {
   "base_numbering": 1,
   "nav_menu": {},
   "number_sections": true,
   "sideBar": true,
   "skip_h1_title": false,
   "title_cell": "Table of Contents",
   "title_sidebar": "Contents",
   "toc_cell": false,
   "toc_position": {},
   "toc_section_display": true,
   "toc_window_display": false
  },
  "varInspector": {
   "cols": {
    "lenName": 16,
    "lenType": 16,
    "lenVar": 40
   },
   "kernels_config": {
    "python": {
     "delete_cmd_postfix": "",
     "delete_cmd_prefix": "del ",
     "library": "var_list.py",
     "varRefreshCmd": "print(var_dic_list())"
    },
    "r": {
     "delete_cmd_postfix": ") ",
     "delete_cmd_prefix": "rm(",
     "library": "var_list.r",
     "varRefreshCmd": "cat(var_dic_list()) "
    }
   },
   "types_to_exclude": [
    "module",
    "function",
    "builtin_function_or_method",
    "instance",
    "_Feature"
   ],
   "window_display": false
  }
 },
 "nbformat": 4,
 "nbformat_minor": 4
}
